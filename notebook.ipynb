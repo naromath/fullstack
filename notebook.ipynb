{
 "cells": [
  {
   "cell_type": "markdown",
   "metadata": {},
   "source": [
    "challenge\n",
    "\n",
    "새로운 Jupyter notebook에서 리서치 AI 에이전트를 만들고 커스텀 도구를 부여합니다.\n",
    "에이전트는 다음 작업을 수행할 수 있어야 합니다:\n",
    "Wikipedia에서 검색\n",
    "DuckDuckGo에서 검색\n",
    "웹사이트의 텍스트를 스크랩하고 추출합니다.\n",
    "리서치 결과를 .txt 파일에 저장하기\n",
    "다음 쿼리로 에이전트를 실행합니다: \"Research about the XZ backdoor\" 라는 쿼리로 에이전트를 실행하면, 에이전트는 Wikipedia 또는 DuckDuckGo에서 검색을 시도하고, DuckDuckGo에서 웹사이트를 찾으면 해당 웹사이트에 들어가서 콘텐츠를 추출한 다음 .txt 파일에 조사 내용을 저장하는 것으로 완료해야 합니다."
   ]
  },
  {
   "cell_type": "markdown",
   "metadata": {},
   "source": [
    "1. Agent\n",
    "2. Serach\n",
    "3. Scrap\n",
    "4. txt save\n",
    "5. User query input"
   ]
  },
  {
   "cell_type": "code",
   "execution_count": 1,
   "metadata": {},
   "outputs": [],
   "source": [
    "from langchain.chat_models import ChatOpenAI\n",
    "from langchain.agents import initialize_agent, AgentType\n",
    "from langchain.utilities import DuckDuckGoSearchAPIWrapper, WikipediaAPIWrapper\n",
    "from langchain.tools import BaseTool\n",
    "from typing import Type\n",
    "from pydantic import BaseModel, Field\n",
    "\n"
   ]
  },
  {
   "cell_type": "code",
   "execution_count": 2,
   "metadata": {},
   "outputs": [],
   "source": [
    "llm=ChatOpenAI(\n",
    "    model_name=\"gpt-4o-mini\",\n",
    "    temperature=0.1,\n",
    ")"
   ]
  },
  {
   "cell_type": "code",
   "execution_count": 3,
   "metadata": {},
   "outputs": [],
   "source": [
    "class DuckSearchToolArgsSchema(BaseModel):\n",
    "    query: str = Field(description=\"search query\")"
   ]
  },
  {
   "cell_type": "code",
   "execution_count": 4,
   "metadata": {},
   "outputs": [],
   "source": [
    "class DuckSearchTool(BaseTool):\n",
    "    name = \"DuckSearchTool\"\n",
    "    description=\"DuckDuckGo Search Tool\"\n",
    "    args_schema : Type[DuckSearchToolArgsSchema]=DuckSearchToolArgsSchema\n",
    "    \n",
    "    def _run(self, query):\n",
    "        ddg = WikipediaAPIWrapper()\n",
    "        return ddg.run(query)"
   ]
  },
  {
   "cell_type": "code",
   "execution_count": 5,
   "metadata": {},
   "outputs": [],
   "source": [
    "agent = initialize_agent(\n",
    "    llm=llm,\n",
    "    verbose=True,\n",
    "    agent=AgentType.OPENAI_FUNCTIONS,\n",
    "    handle_parsing_error=True,\n",
    "    tools=[\n",
    "        DuckSearchTool(),\n",
    "    ]\n",
    "\n",
    ")"
   ]
  },
  {
   "cell_type": "code",
   "execution_count": 6,
   "metadata": {},
   "outputs": [],
   "source": [
    "query = input(\"Enter your query: \")"
   ]
  },
  {
   "cell_type": "code",
   "execution_count": 7,
   "metadata": {},
   "outputs": [
    {
     "name": "stdout",
     "output_type": "stream",
     "text": [
      "\n",
      "\n",
      "\u001b[1m> Entering new AgentExecutor chain...\u001b[0m\n",
      "\u001b[32;1m\u001b[1;3m\n",
      "Invoking: `DuckSearchTool` with `{'query': 'XZ backdoor'}`\n",
      "\n",
      "\n",
      "\u001b[0m\u001b[36;1m\u001b[1;3mPage: XZ Utils backdoor\n",
      "Summary: In February 2024, a malicious backdoor was introduced to the Linux build of the xz utility within the liblzma library in versions 5.6.0 and 5.6.1 by an account using the name \"Jia Tan\". The backdoor gives an attacker who possesses a specific Ed448 private key remote code execution capabilities on the affected Linux system. The issue has been given the Common Vulnerabilities and Exposures number CVE-2024-3094 and has been assigned a CVSS score of 10.0, the highest possible score.\n",
      "While xz is commonly present in most Linux distributions, at the time of discovery the backdoored version had not yet been widely deployed to production systems, but was present in development versions of major distributions. The backdoor was discovered by the software developer Andres Freund, who announced his findings on 29 March 2024.\n",
      "\n",
      "\n",
      "\n",
      "Page: XZ Utils\n",
      "Summary: XZ Utils (previously LZMA Utils) is a set of free software command-line lossless data compressors, including the programs lzma and xz, for Unix-like operating systems and, from version 5.0 onwards, Microsoft Windows. For compression/decompression the Lempel–Ziv–Markov chain algorithm (LZMA) is used. XZ Utils started as a Unix port of Igor Pavlov's LZMA-SDK that has been adapted to fit seamlessly into Unix environments and their usual structure and behavior.\n",
      "\n",
      "Page: Backdoor (computing)\n",
      "Summary: A backdoor is a typically covert method of bypassing normal authentication or encryption in a computer, product, embedded device (e.g. a home router), or its embodiment (e.g. part of a cryptosystem, algorithm, chipset, or even a \"homunculus computer\"—a tiny computer-within-a-computer such as that found in Intel's AMT technology). Backdoors are most often used for securing remote access to a computer, or obtaining access to plaintext in cryptosystems. From there it may be used to gain access to privileged information like passwords, corrupt or delete data on hard drives, or transfer information within autoschediastic networks.\n",
      "In the United States, the 1994 Communications Assistance for Law Enforcement Act forces internet providers to provide backdoors for government authorities.  In 2024, the U.S. government realized that China had been tapping communications in the U.S. using that infrastructure for months, or perhaps longer; China recorded presidential candidate campaign office phone calls —including employees of the then-vice president of the nation– and of the candidates themselves.\n",
      "A backdoor may take the form of a hidden part of a program, a separate program (e.g. Back Orifice may subvert the system through a rootkit), code in the firmware of the hardware, or parts of an operating system such as Windows. Trojan horses can be used to create vulnerabilities in a device. A Trojan horse may appear to be an entirely legitimate program, but when executed, it triggers an activity that may install a backdoor. Although some are secretly installed, other backdoors are deliberate and widely known. These kinds of backdoors have \"legitimate\" uses such as providing the manufacturer with a way to restore user passwords.\n",
      "Many systems that store information within the cloud fail to create accurate security measures. If many systems are connected within the cloud, hackers can gain access to all other platforms through the most vulnerable system. Default passwords (or other default credentials) can function as backdoors if they are not changed by the user. Some debugging features can also act as backdoors if they are not removed in the release version. In 1993, the United States government attempted to deploy an encryption system, the Clipper chip, with an explicit backdoor for law enforcement and national security access. The chip was unsuccessful.\n",
      "Recent proposals to counter backdoors include creating a database of backdoors' triggers and then using neural networks to detect them.\u001b[0m\u001b[32;1m\u001b[1;3mThe XZ backdoor refers to a significant security vulnerability discovered in the XZ Utils, specifically in the Linux build of the xz utility within the liblzma library. This backdoor was introduced in versions 5.6.0 and 5.6.1 by an account using the name \"Jia Tan\". \n",
      "\n",
      "### Key Details:\n",
      "- **Discovery Date**: The backdoor was discovered by software developer Andres Freund, who announced his findings on March 29, 2024.\n",
      "- **CVE Identifier**: The issue has been assigned the Common Vulnerabilities and Exposures (CVE) number CVE-2024-3094.\n",
      "- **Severity**: It has been given a CVSS score of 10.0, which is the highest possible score, indicating a critical vulnerability.\n",
      "- **Functionality**: The backdoor allows an attacker who possesses a specific Ed448 private key to execute remote code on the affected Linux systems.\n",
      "- **Impact**: While xz is commonly included in most Linux distributions, at the time of the discovery, the backdoored versions had not been widely deployed in production systems but were present in development versions of major distributions.\n",
      "\n",
      "### Background on XZ Utils:\n",
      "XZ Utils is a set of free software command-line lossless data compressors, which includes programs like lzma and xz. It utilizes the Lempel–Ziv–Markov chain algorithm (LZMA) for compression and is used across Unix-like operating systems and Microsoft Windows.\n",
      "\n",
      "### General Context on Backdoors:\n",
      "A backdoor is a covert method of bypassing normal authentication or encryption in a computer system, allowing unauthorized access. Backdoors can be used for various purposes, including remote access, data theft, or system manipulation. They can be introduced intentionally or through vulnerabilities in software.\n",
      "\n",
      "The discovery of the XZ backdoor highlights the importance of software security and the potential risks associated with widely used utilities in operating systems.\u001b[0m\n",
      "\n",
      "\u001b[1m> Finished chain.\u001b[0m\n"
     ]
    },
    {
     "data": {
      "text/plain": [
       "{'input': 'Research about the XZ backdoor',\n",
       " 'output': 'The XZ backdoor refers to a significant security vulnerability discovered in the XZ Utils, specifically in the Linux build of the xz utility within the liblzma library. This backdoor was introduced in versions 5.6.0 and 5.6.1 by an account using the name \"Jia Tan\". \\n\\n### Key Details:\\n- **Discovery Date**: The backdoor was discovered by software developer Andres Freund, who announced his findings on March 29, 2024.\\n- **CVE Identifier**: The issue has been assigned the Common Vulnerabilities and Exposures (CVE) number CVE-2024-3094.\\n- **Severity**: It has been given a CVSS score of 10.0, which is the highest possible score, indicating a critical vulnerability.\\n- **Functionality**: The backdoor allows an attacker who possesses a specific Ed448 private key to execute remote code on the affected Linux systems.\\n- **Impact**: While xz is commonly included in most Linux distributions, at the time of the discovery, the backdoored versions had not been widely deployed in production systems but were present in development versions of major distributions.\\n\\n### Background on XZ Utils:\\nXZ Utils is a set of free software command-line lossless data compressors, which includes programs like lzma and xz. It utilizes the Lempel–Ziv–Markov chain algorithm (LZMA) for compression and is used across Unix-like operating systems and Microsoft Windows.\\n\\n### General Context on Backdoors:\\nA backdoor is a covert method of bypassing normal authentication or encryption in a computer system, allowing unauthorized access. Backdoors can be used for various purposes, including remote access, data theft, or system manipulation. They can be introduced intentionally or through vulnerabilities in software.\\n\\nThe discovery of the XZ backdoor highlights the importance of software security and the potential risks associated with widely used utilities in operating systems.'}"
      ]
     },
     "execution_count": 7,
     "metadata": {},
     "output_type": "execute_result"
    }
   ],
   "source": [
    "agent.invoke(query)"
   ]
  },
  {
   "cell_type": "code",
   "execution_count": null,
   "metadata": {},
   "outputs": [],
   "source": []
  }
 ],
 "metadata": {
  "kernelspec": {
   "display_name": "env",
   "language": "python",
   "name": "python3"
  },
  "language_info": {
   "codemirror_mode": {
    "name": "ipython",
    "version": 3
   },
   "file_extension": ".py",
   "mimetype": "text/x-python",
   "name": "python",
   "nbconvert_exporter": "python",
   "pygments_lexer": "ipython3",
   "version": "3.11.9"
  }
 },
 "nbformat": 4,
 "nbformat_minor": 2
}
